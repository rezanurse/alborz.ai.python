{
 "cells": [
  {
   "cell_type": "markdown",
   "id": "d9bcc2b8",
   "metadata": {},
   "source": [
    "# Assignment 1: Variables, Inputs & Basic Operations\n",
    "\n",
    "**Course:** AbzumsAI Programming 1404\n",
    "\n",
    "**Instructor:** Mr. Ali Mohammadzadeh Shabestari\n",
    "\n",
    "**Date Assigned:** June 12, 2025\n",
    "\n",
    "**Deadline:** June 15, 2025"
   ]
  },
  {
   "cell_type": "markdown",
   "id": "6e9a9d57",
   "metadata": {},
   "source": [
    "## Learning Objectives\n",
    "\n",
    "By the end of this notebook, you will:\n",
    "\n",
    "- Understand Python data types: strings, integers, floats, booleans\n",
    "\n",
    "- Practice variable declaration and naming conventions\n",
    "\n",
    "- Use input/output functions to interact with the user\n",
    "\n",
    "- Perform arithmetic and logical operations\n",
    "\n",
    "- Manipulate strings with slicing, concatenation, and formatting\n",
    "\n",
    "---"
   ]
  },
  {
   "cell_type": "markdown",
   "id": "bc082db1",
   "metadata": {},
   "source": [
    "# Cell 0: Student Information\n",
    "\n",
    "### Please enter your details for grading purposes:\n",
    "\n",
    "Your Name: Reza hajighasemi\n",
    "\n",
    "Your Email:rhg1819@gmail.com\n",
    "\n",
    "Your Gthub Link:https://github.com/rezanurse/alborz.ai.python"
   ]
  },
  {
   "cell_type": "markdown",
   "id": "b60f1c78",
   "metadata": {},
   "source": [
    "## Cell 1: Declare Variables"
   ]
  },
  {
   "cell_type": "code",
   "execution_count": null,
   "id": "c3fad780",
   "metadata": {},
   "outputs": [],
   "source": []
  },
  {
   "cell_type": "markdown",
   "id": "09b5c94a",
   "metadata": {},
   "source": [
    "Define variables to represent patient information:\n",
    "\n",
    "- Full name (string)= \"Reza Haji Ghasemi\"\n",
    "\n",
    "- Age in years (integer)=21\n",
    "\n",
    "- Weight in kilograms (float)=81.5\n",
    "\n",
    "- Height in meters (float)=1.82\n",
    "\n",
    "- Diabetic status (boolean: True or False)=False"
   ]
  },
  {
   "cell_type": "code",
   "execution_count": null,
   "id": "23744f8c",
   "metadata": {},
   "outputs": [],
   "source": [
    "# write your code here"
   ]
  },
  {
   "cell_type": "markdown",
   "id": "60e5a456",
   "metadata": {},
   "source": [
    "## Cell 2: Print Variables"
   ]
  },
  {
   "cell_type": "markdown",
   "id": "86b9f19e",
   "metadata": {},
   "source": [
    "Now, print all of them in the following format:\n",
    "\n",
    "`Your {variable} is {value}`\n",
    "\n",
    "Replace `{variable}` and `{value}` with name of variable, and its value."
   ]
  },
  {
   "cell_type": "code",
   "execution_count": null,
   "id": "34be97ed",
   "metadata": {},
   "outputs": [],
   "source": [
    "# write your code here\n",
    "Full_name= \"Reza Haji Ghasemi\"\n",
    "Age_in_years=21\n",
    "Weight_in_kilograms=81.5\n",
    "Height_in_meters=1.82\n",
    "Diabetic_status=False\n",
    "print(\"your name is:\",Full_name)\n",
    "print(\"your age is:\",Age_in_years)\n",
    "print(\"your weight is:\",Weight_in_kilograms)\n",
    "print(\"your height is:\",Height_in_meters)\n",
    "print(\"your dibetic status is:\",Diabetic_status)"
   ]
  },
  {
   "cell_type": "markdown",
   "id": "2df49f77",
   "metadata": {},
   "source": [
    "## Cell 3: Assignment in Expression"
   ]
  },
  {
   "cell_type": "markdown",
   "id": "fe3ac152",
   "metadata": {},
   "source": [
    "Store your own height and weight in variables. (Both Integer)\n",
    "\n",
    "Then, calculate the Body Mass Index (BMI) using the formula:\n",
    "\n",
    "\n",
    "$$\n",
    "BMI = \\frac{\\text{weight (kg)}}{\\text{height (m)}^2}\n",
    "$$\n",
    " \n",
    "Print the calculated BMI and its datatype."
   ]
  },
  {
   "cell_type": "code",
   "execution_count": null,
   "id": "d3c5e8bb",
   "metadata": {},
   "outputs": [],
   "source": [
    "# write your code here\n",
    "Weight_in_kilograms=81 #int\n",
    "Height_in_meters=1.82  #float    #mn be float ghereftam chon ba intiger adad be dast omade kheili doore.\n",
    "BMI=Weight_in_kilograms//(Height_in_meters**2)\n",
    "print(BMI)"
   ]
  },
  {
   "cell_type": "markdown",
   "id": "7a9ee851",
   "metadata": {},
   "source": [
    "## Cell 4: Input"
   ]
  },
  {
   "cell_type": "markdown",
   "id": "bf0220d9",
   "metadata": {},
   "source": [
    "Repeat the same process, but this time take height and weight from user input."
   ]
  },
  {
   "cell_type": "code",
   "execution_count": null,
   "id": "f4255b85",
   "metadata": {},
   "outputs": [],
   "source": [
    "# write your code here\n",
    "Weight_in_kilograms=input(\"enter your weight in intiger(like:65)\")\n",
    "Height_in_meters=input(\"enter your height in meter(like:1.68)\")\n",
    "BMI=Weight_in_kilograms//(Height_in_meters**2)\n",
    "print(BMI)"
   ]
  },
  {
   "cell_type": "markdown",
   "id": "fe210e58",
   "metadata": {},
   "source": [
    "## Cell 5: Strings"
   ]
  },
  {
   "cell_type": "markdown",
   "id": "e2ff6b31",
   "metadata": {},
   "source": [
    "Fill the blanks with proper code."
   ]
  },
  {
   "cell_type": "code",
   "execution_count": null,
   "id": "6d784b0d",
   "metadata": {},
   "outputs": [],
   "source": [
    "# Patient's information and report\n",
    "patient_full_name = \"Jane Doe\"\n",
    "patient_id = \"ID202305\"\n",
    "medical_report = \"The patient tested positive for COVID-19 and negative for diabetes.\"\n",
    "\n",
    "# 1. Extract and print the patient's first and last name separately.\n",
    "#    Use slicing or the split() method.\n",
    "first_name =\"Jane\" \n",
    "last_name = \"Doe\"\n",
    "print(f\"First Name: {first_name}\")\n",
    "print(f\"Last Name: {last_name}\")\n",
    "\n",
    "# 2. Create and print a unique identifier by combining the patient's last name and ID.\n",
    "#    Use string concatenation or f-strings.\n",
    "unique_identifier =\"ID202305\"\n",
    "print(f\"Unique Identifier: {unique_identifier}\")\n",
    "\n",
    "# 3. Convert the patient's full name to uppercase and lowercase. Print the results.\n",
    "name=first_name+\" \"+last_name\n",
    "name_upper =name.upper()\n",
    "name_lower =name.lower() \n",
    "print(f\"Uppercase: {name_upper}\")\n",
    "print(f\"Lowercase: {name_lower}\")\n",
    "\n",
    "# 4. Check if the string \"COVID-19\" exists in the medical report. Print the result as a boolean.\n",
    "contains_covid =True\n",
    "print(f\"Does the report mention 'COVID-19'? {contains_covid}\")\n",
    "\n",
    "# 5. Format and print a sentence summarizing the patient's information:\n",
    "#    Example: \"Patient Jane Doe (ID: ID202305) tested positive for COVID-19.\"\n",
    "summary = name + unique_identifier +contains_covid\n",
    "print(summary)\n",
    "\n",
    "# 6. Replace \"COVID-19\" in the report with \"influenza\" and print the updated report.\n",
    "updated_report =medical_report.replace(\"COVID-19\",\"influenza\")\n",
    "print(f\"Updated Report: {updated_report}\")"
   ]
  },
  {
   "cell_type": "markdown",
   "id": "46db3e00",
   "metadata": {},
   "source": [
    "## Cell 6: Operators"
   ]
  },
  {
   "cell_type": "markdown",
   "id": "c418f6fb",
   "metadata": {},
   "source": [
    "Fill the blanks with proper code."
   ]
  },
  {
   "cell_type": "code",
   "execution_count": null,
   "id": "4b0c343f",
   "metadata": {},
   "outputs": [],
   "source": [
    "# Patient data\n",
    "patient_age = 45\n",
    "patient_weight = 70.5  # kg\n",
    "patient_height = 1.65  # meters\n",
    "systolic_bp = 135  # mmHg\n",
    "diastolic_bp = 85  # mmHg\n",
    "has_diabetes = True\n",
    "\n",
    "# 1. Check if the patient is an adult (age >= 18). Print the result.\n",
    "is_adult = patient_age>=18# Replace with a comparison\n",
    "print(f\"Is the patient an adult? {is_adult}\")\n",
    "\n",
    "# 2. Check if the patient's BMI is in the normal range (18.5 <= BMI < 25).\n",
    "#    Calculate BMI first, then check the condition.\n",
    "bmi = patient_weight / (patient_height ** 2)\n",
    "is_bmi_normal =18.5<=bmi and bmi<25  # Replace with a logical condition\n",
    "print(f\"Is the BMI in the normal range? {is_bmi_normal}\")\n",
    "\n",
    "# 3. Check if the patient is hypertensive based on blood pressure.\n",
    "#    Hypertension: systolic BP >= 140 or diastolic BP >= 90.\n",
    "is_hypertensive = systolic_bp>= 140 or diastolic_bp>= 90.  # Replace with a logical condition\n",
    "print(f\"Is the patient hypertensive? {is_hypertensive}\")\n",
    "\n",
    "# 4. Check if the patient is an adult **and** has diabetes.\n",
    "adult_and_diabetic =is_adult and has_diabetes# Replace with a logical condition\n",
    "print(f\"Is the patient an adult and diabetic? {adult_and_diabetic}\")\n",
    "\n",
    "# 5. Check if the patient is not hypertensive and BMI is normal.\n",
    "healthy_condition =not is_hypertensive and is_bmi_normal# Replace with a logical condition\n",
    "print(f\"Is the patient non-hypertensive with a normal BMI? {healthy_condition}\")\n",
    "\n",
    "# 6. Check if the patient has **either** diabetes or hypertension (or both).\n",
    "diabetes_or_hypertension=has_diabetes or is_hypertensive# Replace with a logical condition\n",
    "print(f\"Does the patient have diabetes or hypertension? {diabetes_or_hypertension}\")\n",
    "\n",
    "# 7. Verify if the patient's age is within the range of 30 to 50 (inclusive).\n",
    "age_in_range =patient_age>30 and patient_age<50# Replace with a logical condition\n",
    "print(f\"Is the patient's age between 30 and 50? {age_in_range}\")\n",
    "\n",
    "# 8. Check if the patient’s systolic BP is divisible by 5.\n",
    "bp_divisible_by_5 =systolic_bp%5==0# Replace with a condition using modulus operator\n",
    "print(f\"Is the systolic blood pressure divisible by 5? {bp_divisible_by_5}\")"
   ]
  }
 ],
 "metadata": {
  "language_info": {
   "name": "python"
  }
 },
 "nbformat": 4,
 "nbformat_minor": 5
}
